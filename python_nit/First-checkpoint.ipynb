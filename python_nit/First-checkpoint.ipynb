{
 "cells": [
  {
   "cell_type": "code",
   "execution_count": 9,
   "metadata": {},
   "outputs": [
    {
     "name": "stdout",
     "output_type": "stream",
     "text": [
      "6\n"
     ]
    }
   ],
   "source": [
    "def kas():\n",
    "    a = 6\n",
    "    b = 5\n",
    "    if a>b:\n",
    "      print(a)\n",
    "    else:\n",
    "      print(b)\n",
    "kas()"
   ]
  },
  {
   "cell_type": "code",
   "execution_count": 12,
   "metadata": {},
   "outputs": [
    {
     "name": "stdout",
     "output_type": "stream",
     "text": [
      "Enter Your NameKrishna\n",
      "Enter Your Roll number022\n",
      "Krishna022\n"
     ]
    }
   ],
   "source": [
    "def stddetails():\n",
    "    a = input(\"Enter Your Name\")\n",
    "    b = input(\"Enter Your Roll number\")\n",
    "    print(a + b)\n",
    "stddetails()\n",
    "\n"
   ]
  },
  {
   "cell_type": "code",
   "execution_count": 14,
   "metadata": {},
   "outputs": [
    {
     "name": "stdout",
     "output_type": "stream",
     "text": [
      "enter 1st number for addition20\n",
      "enter 2nd number for addition30\n",
      "50\n",
      "enter 1st number for substraction40\n",
      "enter 2nd number for substraction20\n",
      "20\n"
     ]
    }
   ],
   "source": [
    "def add():\n",
    "    a = int(input(\"enter 1st number for addition\"))\n",
    "    b = int(input(\"enter 2nd number for addition\"))\n",
    "    print(a+b)\n",
    "add()\n",
    "def sub():\n",
    "    x = int(input(\"enter 1st number for substraction\"))\n",
    "    y = int(input(\"enter 2nd number for substraction\"))\n",
    "    print(x-y)\n",
    "sub()"
   ]
  },
  {
   "cell_type": "code",
   "execution_count": 18,
   "metadata": {},
   "outputs": [
    {
     "name": "stdout",
     "output_type": "stream",
     "text": [
      "70\n",
      "140720710199856\n",
      "90\n",
      "140720710200496\n",
      "70\n",
      "140720710199856\n"
     ]
    }
   ],
   "source": [
    "def var():\n",
    "    mark = 70\n",
    "    print(mark)\n",
    "    print(id(mark))\n",
    "    mark = 90\n",
    "    print(mark)\n",
    "    print(id(mark))\n",
    "    notmark = 70\n",
    "    print(notmark)\n",
    "    print(id(notmark))\n",
    "var()"
   ]
  },
  {
   "cell_type": "code",
   "execution_count": 29,
   "metadata": {},
   "outputs": [
    {
     "name": "stdout",
     "output_type": "stream",
     "text": [
      "enter a number20\n",
      "<class 'int'>\n",
      "20\n"
     ]
    }
   ],
   "source": [
    "def tp():\n",
    "    a = int(input(\"enter a number\"))\n",
    "    print(type(a))\n",
    "    print(a)\n",
    "tp()"
   ]
  },
  {
   "cell_type": "code",
   "execution_count": null,
   "metadata": {},
   "outputs": [],
   "source": []
  },
  {
   "cell_type": "code",
   "execution_count": 24,
   "metadata": {},
   "outputs": [
    {
     "name": "stdout",
     "output_type": "stream",
     "text": [
      "6\n"
     ]
    }
   ],
   "source": [
    "func()"
   ]
  },
  {
   "cell_type": "code",
   "execution_count": null,
   "metadata": {},
   "outputs": [],
   "source": []
  },
  {
   "cell_type": "code",
   "execution_count": null,
   "metadata": {},
   "outputs": [],
   "source": []
  },
  {
   "cell_type": "code",
   "execution_count": null,
   "metadata": {},
   "outputs": [],
   "source": []
  },
  {
   "cell_type": "code",
   "execution_count": null,
   "metadata": {},
   "outputs": [],
   "source": []
  },
  {
   "cell_type": "code",
   "execution_count": null,
   "metadata": {},
   "outputs": [],
   "source": []
  },
  {
   "cell_type": "code",
   "execution_count": null,
   "metadata": {},
   "outputs": [],
   "source": []
  },
  {
   "cell_type": "code",
   "execution_count": null,
   "metadata": {},
   "outputs": [],
   "source": []
  }
 ],
 "metadata": {
  "kernelspec": {
   "display_name": "Python 3",
   "language": "python",
   "name": "python3"
  },
  "language_info": {
   "codemirror_mode": {
    "name": "ipython",
    "version": 3
   },
   "file_extension": ".py",
   "mimetype": "text/x-python",
   "name": "python",
   "nbconvert_exporter": "python",
   "pygments_lexer": "ipython3",
   "version": "3.7.4"
  }
 },
 "nbformat": 4,
 "nbformat_minor": 2
}
